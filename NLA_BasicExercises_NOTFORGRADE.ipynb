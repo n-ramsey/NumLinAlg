{
 "cells": [
  {
   "cell_type": "markdown",
   "metadata": {},
   "source": [
    "<h1 align = 'center'> Exercises -- NOT FOR GRADE! </h1>\n",
    "\n",
    "Find inverse matrix (if it exists) and eigenvalues of the following: "
   ]
  },
  {
   "cell_type": "code",
   "execution_count": 1,
   "metadata": {},
   "outputs": [],
   "source": [
    "%matplotlib inline\n",
    "\n",
    "import matplotlib.pyplot as plt\n",
    "import numpy as np"
   ]
  },
  {
   "cell_type": "code",
   "execution_count": 68,
   "metadata": {},
   "outputs": [],
   "source": [
    "Ex1 = np.array([[ 1,  0,  0],\n",
    "                [ 2,  7, -4],\n",
    "                [ 2,  4, -1]])"
   ]
  },
  {
   "cell_type": "code",
   "execution_count": 69,
   "metadata": {},
   "outputs": [],
   "source": [
    "Ex2 = np.array([[ 2, -2,  1],\n",
    "                [ 1,  2,  2],\n",
    "                [ 2,  1, -2]])"
   ]
  },
  {
   "cell_type": "code",
   "execution_count": null,
   "metadata": {},
   "outputs": [],
   "source": []
  },
  {
   "cell_type": "code",
   "execution_count": null,
   "metadata": {},
   "outputs": [],
   "source": []
  },
  {
   "cell_type": "code",
   "execution_count": 71,
   "metadata": {},
   "outputs": [],
   "source": [
    "A1 = np.array([[ 1,  0,  0],\n",
    "               [ 0,  5, -1],\n",
    "               [ 0, -1,  5]])\n",
    "\n",
    "A2 = np.array([[ 6,  2, -2],\n",
    "               [ 2,  5,  0],\n",
    "               [-2,  0,  7]])\n",
    "\n",
    "A3 = np.array([[ 0, -1, -1],\n",
    "               [ 1,  1, -1],\n",
    "               [ 1, -1,  1]])\n",
    "\n",
    "A4 = np.array([[ 1, -4, -8],\n",
    "               [ 8,  4, -1],\n",
    "               [ 4, -7,  4]])\n",
    "\n",
    "A5 = np.array([[ 4, -4, -7],\n",
    "               [ 8,  1,  4],\n",
    "               [-1, -8,  4]]);\n"
   ]
  },
  {
   "cell_type": "code",
   "execution_count": null,
   "metadata": {},
   "outputs": [],
   "source": []
  }
 ],
 "metadata": {
  "kernelspec": {
   "display_name": "Python 3",
   "language": "python",
   "name": "python3"
  },
  "language_info": {
   "codemirror_mode": {
    "name": "ipython",
    "version": 3
   },
   "file_extension": ".py",
   "mimetype": "text/x-python",
   "name": "python",
   "nbconvert_exporter": "python",
   "pygments_lexer": "ipython3",
   "version": "3.7.0"
  }
 },
 "nbformat": 4,
 "nbformat_minor": 2
}
